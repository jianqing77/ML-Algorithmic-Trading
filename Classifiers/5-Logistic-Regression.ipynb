{
 "cells": [
  {
   "cell_type": "markdown",
   "id": "bb53dfaa-6524-4523-a4f3-e2390444eb4c",
   "metadata": {},
   "source": [
    "## Logistic Regression"
   ]
  },
  {
   "cell_type": "code",
   "execution_count": null,
   "id": "6df43b35-b294-4032-8c24-157db3facf9b",
   "metadata": {},
   "outputs": [],
   "source": [
    "from sklearn.datasets import load_iris\n",
    "from sklearn.linear_model import LogisticRegression\n",
    "from sklearn.model_selection import train_test_split\n",
    "from sklearn.metrics import classification_report, confusion_matrix"
   ]
  },
  {
   "cell_type": "markdown",
   "id": "e2427b51-1aa8-4563-a0a8-4546bafeb315",
   "metadata": {},
   "source": [
    "### Step 1: load the iris dataset"
   ]
  },
  {
   "cell_type": "code",
   "execution_count": null,
   "id": "a121132c-6e30-41ca-99b5-da574f2b26fa",
   "metadata": {},
   "outputs": [],
   "source": [
    "# Load the iris dataset\n",
    "iris = load_iris()"
   ]
  },
  {
   "cell_type": "markdown",
   "id": "840e7ea3-8be9-4dcc-9109-ae6f430cd53a",
   "metadata": {},
   "source": [
    "### Step 2: Extract the feature matrix (X) and target vector (y)"
   ]
  },
  {
   "cell_type": "code",
   "execution_count": null,
   "id": "34335451-2afd-4cfc-a9db-0fbbb8013f29",
   "metadata": {},
   "outputs": [],
   "source": [
    "X = iris.data\n",
    "y = iris.target"
   ]
  },
  {
   "cell_type": "markdown",
   "id": "c6c85e40-c8f3-4b94-9c22-406d9ca64a10",
   "metadata": {},
   "source": [
    "### Step 3: Split the dataset into a training set and a test set"
   ]
  },
  {
   "cell_type": "code",
   "execution_count": null,
   "id": "a204bb98-0c51-4c1e-9b7e-6281b30f7f14",
   "metadata": {},
   "outputs": [],
   "source": [
    "# Split the dataset into a training set and a test set\n",
    "X_train, X_test, y_train, y_test = train_test_split(X, y, test_size=0.2, random_state=42)"
   ]
  },
  {
   "cell_type": "markdown",
   "id": "d492b77e-9c87-4d62-9707-5c7f7b07982d",
   "metadata": {},
   "source": [
    "### Step 4: Initialize the Logistic Regression model"
   ]
  },
  {
   "cell_type": "code",
   "execution_count": null,
   "id": "a51a20a1-2cf1-4c95-b6b4-f24e8c947d02",
   "metadata": {},
   "outputs": [],
   "source": [
    "# Initialize the Logistic Regression model\n",
    "logreg = LogisticRegression() #solver='liblinear', multi_class='ovr'"
   ]
  },
  {
   "cell_type": "markdown",
   "id": "47ad4ee5-fbfe-4045-b18c-141569a75be7",
   "metadata": {},
   "source": [
    "### Step 5: Fit the model on the training data"
   ]
  },
  {
   "cell_type": "code",
   "execution_count": null,
   "id": "c8b81a3b-9b8a-4f8a-bfa5-39a6a50c03b6",
   "metadata": {},
   "outputs": [],
   "source": [
    "# Fit the model on the training data\n",
    "logreg.fit(X_train, y_train)"
   ]
  },
  {
   "cell_type": "markdown",
   "id": "715344e3-50a6-4e0f-bccc-d3750e617512",
   "metadata": {},
   "source": [
    "### Step 6: Predict on the test data"
   ]
  },
  {
   "cell_type": "code",
   "execution_count": null,
   "id": "e852de1e-7c8f-4d5c-b6de-e10ca252f459",
   "metadata": {},
   "outputs": [],
   "source": [
    "# Predict on the test data\n",
    "y_pred = logreg.predict(X_test)"
   ]
  },
  {
   "cell_type": "markdown",
   "id": "cf4fc00b-17ef-4d0c-abf4-36b8ea271cb7",
   "metadata": {},
   "source": [
    "### Step 7: Print the classification report and confusion matrix"
   ]
  },
  {
   "cell_type": "code",
   "execution_count": null,
   "id": "39501d29-f3c8-4536-aeef-89032e685557",
   "metadata": {},
   "outputs": [],
   "source": [
    "# Print the classification report and confusion matrix\n",
    "report = classification_report(y_test, y_pred)\n",
    "matrix = confusion_matrix(y_test, y_pred)"
   ]
  },
  {
   "cell_type": "code",
   "execution_count": null,
   "id": "f4285f2a-fffb-4860-a629-b7434bb86a8c",
   "metadata": {},
   "outputs": [],
   "source": [
    "print(report)"
   ]
  },
  {
   "cell_type": "code",
   "execution_count": null,
   "id": "19ad9206-46cf-442c-8d09-c0943ca3253a",
   "metadata": {},
   "outputs": [],
   "source": [
    "print(matrix)"
   ]
  }
 ],
 "metadata": {
  "kernelspec": {
   "display_name": "Python 3 (ipykernel)",
   "language": "python",
   "name": "python3"
  },
  "language_info": {
   "codemirror_mode": {
    "name": "ipython",
    "version": 3
   },
   "file_extension": ".py",
   "mimetype": "text/x-python",
   "name": "python",
   "nbconvert_exporter": "python",
   "pygments_lexer": "ipython3",
   "version": "3.11.5"
  }
 },
 "nbformat": 4,
 "nbformat_minor": 5
}
