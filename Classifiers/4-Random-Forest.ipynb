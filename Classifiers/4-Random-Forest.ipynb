{
 "cells": [
  {
   "cell_type": "markdown",
   "id": "cae1d770-a6e3-41b7-8fa9-a6804c39e02e",
   "metadata": {},
   "source": [
    "## Random Forest"
   ]
  },
  {
   "cell_type": "code",
   "execution_count": null,
   "id": "538a60e1-176c-42d1-b925-04ee5b9ecc25",
   "metadata": {},
   "outputs": [],
   "source": [
    "### Step 1: load the iris dataset\n",
    "### Step 2: Extract the feature matrix (X) and target vector (y)\n",
    "### Step 3: Split the dataset into a training set and a test set\n",
    "### Step 4: Initialize the Logistic Regression model\n",
    "### Step 5: Fit the model on the training data\n",
    "### Step 6: Predict on the test data\n",
    "### Step 7: Print the classification report and confusion matrix"
   ]
  },
  {
   "cell_type": "markdown",
   "id": "db2cf0bf-b05b-4eb7-b3e1-d0968044758a",
   "metadata": {},
   "source": [
    "### Sample 1"
   ]
  },
  {
   "cell_type": "code",
   "execution_count": null,
   "id": "88d39778-15eb-44d1-834a-33a86b934260",
   "metadata": {},
   "outputs": [],
   "source": [
    "from sklearn.ensemble import RandomForestClassifier"
   ]
  },
  {
   "cell_type": "code",
   "execution_count": null,
   "id": "b8228b9a-9806-4a6d-bf4f-045bb9748cca",
   "metadata": {},
   "outputs": [],
   "source": [
    "# Sample dataset\n",
    "X = [[0, 0], [1, 1], [0, 1], [1, 0]]\n",
    "y = [0, 1, 1, 0]\n",
    "\n",
    "# Creating the Random Forest model\n",
    "clf = RandomForestClassifier(n_estimators=10)\n",
    "\n",
    "# Fitting the model\n",
    "clf.fit(X, y)\n",
    "\n",
    "# Predicting a new data point\n",
    "print(clf.predict([[0.5, 0.5]]))"
   ]
  },
  {
   "cell_type": "markdown",
   "id": "21be1801-8a10-4c6c-8cde-a01bdb3c8368",
   "metadata": {},
   "source": [
    "### Sample 2"
   ]
  },
  {
   "cell_type": "code",
   "execution_count": null,
   "id": "8134bc1b-cc89-48e0-ad39-eb7c333d55c0",
   "metadata": {},
   "outputs": [],
   "source": [
    "from sklearn.datasets import load_iris\n",
    "from sklearn.model_selection import train_test_split\n",
    "from sklearn.ensemble import RandomForestClassifier\n",
    "from sklearn.metrics import accuracy_score\n",
    "\n",
    "# Load the Iris dataset\n",
    "iris = load_iris()\n",
    "X = iris.data\n",
    "y = iris.target\n",
    "\n",
    "# Split the dataset into a training set and a testing set\n",
    "X_train, X_test, y_train, y_test = train_test_split(X, y, test_size=0.3, random_state=42)\n",
    "\n",
    "# Create a Random Forest classifier\n",
    "rf_clf = RandomForestClassifier(n_estimators=100, random_state=42)\n",
    "\n",
    "# Train the classifier using the training data\n",
    "rf_clf.fit(X_train, y_train)\n",
    "\n",
    "# Predict the labels of the test data\n",
    "y_pred_rf = rf_clf.predict(X_test)\n",
    "\n",
    "# Evaluate the classifier\n",
    "accuracy_rf = accuracy_score(y_test, y_pred_rf)\n",
    "print(f\"Random Forest Accuracy: {accuracy_rf}\")\n"
   ]
  }
 ],
 "metadata": {
  "kernelspec": {
   "display_name": "Python 3 (ipykernel)",
   "language": "python",
   "name": "python3"
  },
  "language_info": {
   "codemirror_mode": {
    "name": "ipython",
    "version": 3
   },
   "file_extension": ".py",
   "mimetype": "text/x-python",
   "name": "python",
   "nbconvert_exporter": "python",
   "pygments_lexer": "ipython3",
   "version": "3.11.5"
  }
 },
 "nbformat": 4,
 "nbformat_minor": 5
}
