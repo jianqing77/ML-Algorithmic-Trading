{
 "cells": [
  {
   "cell_type": "code",
   "execution_count": null,
   "id": "ebcfb1b4-8daf-4e09-8233-a76498ff680a",
   "metadata": {},
   "outputs": [],
   "source": [
    "### Step 1: load the iris dataset\n",
    "### Step 2: Extract the feature matrix (X) and target vector (y)\n",
    "### Step 3: Split the dataset into a training set and a test set\n",
    "### Step 4: Initialize the Logistic Regression model\n",
    "### Step 5: Fit the model on the training data\n",
    "### Step 6: Predict on the test data\n",
    "### Step 7: Print the classification report and confusion matrix"
   ]
  },
  {
   "cell_type": "code",
   "execution_count": null,
   "id": "e018c329-3ad7-4a84-a653-8296760f0ae1",
   "metadata": {},
   "outputs": [],
   "source": [
    "from sklearn import datasets\n",
    "from sklearn.svm import SVC\n",
    "from sklearn.preprocessing import StandardScaler\n",
    "import matplotlib.pyplot as plt\n",
    "import numpy as np\n",
    "\n",
    "\n",
    "# Load the Iris dataset\n",
    "iris = datasets.load_iris()\n",
    "\n",
    "# We only take the first two features for simplicity\n",
    "X = iris.data[:, :2]\n",
    "y = iris.target\n"
   ]
  },
  {
   "cell_type": "code",
   "execution_count": null,
   "id": "72c3d34f-f960-49f9-bc01-318e8aa133e3",
   "metadata": {},
   "outputs": [],
   "source": [
    "scaler = StandardScaler()\n",
    "X = scaler.fit_transform(X)"
   ]
  },
  {
   "cell_type": "code",
   "execution_count": null,
   "id": "7afb71a7-4bf6-4829-80d3-aaba6bf049ba",
   "metadata": {},
   "outputs": [],
   "source": [
    "# Fit the SVM model\n",
    "model = SVC(kernel='linear')\n",
    "model.fit(X, y)\n",
    "\n",
    "# Predict using the SVM model\n",
    "# predictions = model.predict(X)\n",
    "\n",
    "# Evaluate the predictions\n",
    "accuracy = model.score(X, y)\n",
    "print(\"Accuracy of SVM:\", accuracy)"
   ]
  },
  {
   "cell_type": "code",
   "execution_count": null,
   "id": "2eb7c783-dfc7-45ec-adc5-26d8b7f40d1e",
   "metadata": {},
   "outputs": [],
   "source": [
    "# Fit the SVM model\n",
    "model_poly = SVC(kernel='poly', degree=3)\n",
    "model_poly.fit(X, y)\n",
    "\n",
    "# Predict using the SVM model\n",
    "# predictions = model_poly.predict(X)\n",
    "\n",
    "# Evaluate the predictions\n",
    "accuracy = model_poly.score(X, y)\n",
    "print(\"Accuracy of SVM:\", accuracy)"
   ]
  },
  {
   "cell_type": "code",
   "execution_count": null,
   "id": "bc42465d-441b-47cc-ab41-1d0a1c488bab",
   "metadata": {},
   "outputs": [],
   "source": [
    "# Fit the SVM model\n",
    "model_rbf = SVC(kernel='rbf', gamma=0.1)\n",
    "model_rbf.fit(X, y)\n",
    "\n",
    "# Predict using the SVM model\n",
    "# predictions = model_rbf.predict(X)\n",
    "\n",
    "# Evaluate the predictions\n",
    "accuracy = model_rbf.score(X, y)\n",
    "print(\"Accuracy of SVM:\", accuracy)"
   ]
  },
  {
   "cell_type": "code",
   "execution_count": null,
   "id": "1254932a-dddf-43b7-b2fb-1bedffdb5bb9",
   "metadata": {},
   "outputs": [],
   "source": [
    "x_min, x_max = X[:, 0].min() - .5, X[:, 0].max() + .5\n",
    "y_min, y_max = X[:, 1].min() - .5, X[:, 1].max() + .5\n",
    "xx, yy = np.meshgrid(np.arange(x_min, x_max, .02),\n",
    "                     np.arange(y_min, y_max, .02))"
   ]
  },
  {
   "cell_type": "code",
   "execution_count": null,
   "id": "1de35490-9ca1-4664-8c44-e40ba3b2afc1",
   "metadata": {},
   "outputs": [],
   "source": [
    "plt.figure()\n",
    "Z = model.predict(np.c_[xx.ravel(), yy.ravel()])\n",
    "Z = Z.reshape(xx.shape)\n",
    "plt.contourf(xx, yy, Z, alpha=.8)\n",
    "plt.scatter(X[:, 0], X[:, 1], c=y, edgecolor='k')\n",
    "plt.title('SVM with Linear kernel')\n",
    "\n",
    "plt.figure()\n",
    "Z = model_poly.predict(np.c_[xx.ravel(), yy.ravel()])\n",
    "Z = Z.reshape(xx.shape)\n",
    "plt.contourf(xx, yy, Z, alpha=.8)\n",
    "plt.scatter(X[:, 0], X[:, 1], c=y, edgecolor='k')\n",
    "plt.title('SVM with Poly kernel')\n",
    "\n",
    "plt.figure()\n",
    "Z = model_rbf.predict(np.c_[xx.ravel(), yy.ravel()])\n",
    "Z = Z.reshape(xx.shape)\n",
    "plt.contourf(xx, yy, Z, alpha=.8)\n",
    "plt.scatter(X[:, 0], X[:, 1], c=y, edgecolor='k')\n",
    "plt.title('SVM with RBF kernel')\n",
    "\n",
    "plt.show()"
   ]
  }
 ],
 "metadata": {
  "kernelspec": {
   "display_name": "Python 3 (ipykernel)",
   "language": "python",
   "name": "python3"
  },
  "language_info": {
   "codemirror_mode": {
    "name": "ipython",
    "version": 3
   },
   "file_extension": ".py",
   "mimetype": "text/x-python",
   "name": "python",
   "nbconvert_exporter": "python",
   "pygments_lexer": "ipython3",
   "version": "3.11.5"
  }
 },
 "nbformat": 4,
 "nbformat_minor": 5
}
