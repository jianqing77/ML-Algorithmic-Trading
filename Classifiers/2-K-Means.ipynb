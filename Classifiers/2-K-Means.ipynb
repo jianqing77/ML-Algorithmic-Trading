{
 "cells": [
  {
   "cell_type": "code",
   "execution_count": null,
   "id": "cc64a7b1-0482-4f93-8b22-91f81b16b27e",
   "metadata": {},
   "outputs": [],
   "source": [
    "from sklearn.cluster import KMeans\n",
    "import matplotlib.pyplot as plt\n",
    "from sklearn import datasets"
   ]
  },
  {
   "cell_type": "code",
   "execution_count": null,
   "id": "6a76d98b-c64d-4537-983f-f9e8192afeec",
   "metadata": {},
   "outputs": [],
   "source": [
    "### Step 1: load the iris dataset\n",
    "### Step 2: Extract the feature matrix (X) and target vector (y)\n",
    "### Step 3: Split the dataset into a training set and a test set\n",
    "### Step 4: Initialize the Logistic Regression model\n",
    "### Step 5: Fit the model on the training data\n",
    "### Step 6: Predict on the test data\n",
    "### Step 7: Print the classification report and confusion matrix"
   ]
  },
  {
   "cell_type": "code",
   "execution_count": null,
   "id": "bdfa1d26-dca6-4b0d-9e8c-7796350c4e17",
   "metadata": {},
   "outputs": [],
   "source": [
    "iris = datasets.load_iris()\n",
    "X = iris.data\n",
    "y = iris.target"
   ]
  },
  {
   "cell_type": "code",
   "execution_count": null,
   "id": "9b02d173-13a1-419f-baa6-6b2b34f57f41",
   "metadata": {},
   "outputs": [],
   "source": [
    "kmeans = KMeans(n_clusters=5, random_state=42)\n",
    "kmeans.fit(X)"
   ]
  },
  {
   "cell_type": "code",
   "execution_count": null,
   "id": "7d3e76ff-143f-4a90-98e5-a7789eedd614",
   "metadata": {},
   "outputs": [],
   "source": [
    "centers = kmeans.cluster_centers_\n",
    "labels = kmeans.labels_"
   ]
  },
  {
   "cell_type": "code",
   "execution_count": null,
   "id": "9f2571e6-58d5-4d12-9bdc-bb92de617140",
   "metadata": {},
   "outputs": [],
   "source": [
    "plt.scatter(X[:, 0], X[:, 1], c=labels, cmap='viridis')\n",
    "plt.scatter(centers[:, 0], centers[:, 1], c='red', marker='x')\n",
    "plt.show()"
   ]
  }
 ],
 "metadata": {
  "kernelspec": {
   "display_name": "Python 3 (ipykernel)",
   "language": "python",
   "name": "python3"
  },
  "language_info": {
   "codemirror_mode": {
    "name": "ipython",
    "version": 3
   },
   "file_extension": ".py",
   "mimetype": "text/x-python",
   "name": "python",
   "nbconvert_exporter": "python",
   "pygments_lexer": "ipython3",
   "version": "3.11.5"
  }
 },
 "nbformat": 4,
 "nbformat_minor": 5
}
