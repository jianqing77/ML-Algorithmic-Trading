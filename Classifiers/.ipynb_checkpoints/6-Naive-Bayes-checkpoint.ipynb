{
 "cells": [
  {
   "cell_type": "code",
   "execution_count": null,
   "id": "80c558f2-db80-4b14-80b8-5b424441ef1c",
   "metadata": {},
   "outputs": [],
   "source": [
    "### Step 1: load the iris dataset\n",
    "### Step 2: Extract the feature matrix (X) and target vector (y)\n",
    "### Step 3: Split the dataset into a training set and a test set\n",
    "### Step 4: Initialize the Logistic Regression model\n",
    "### Step 5: Fit the model on the training data\n",
    "### Step 6: Predict on the test data\n",
    "### Step 7: Print the classification report and confusion matrix"
   ]
  },
  {
   "cell_type": "markdown",
   "id": "a71d08da-28ba-40a6-bc50-fe3629215bfb",
   "metadata": {},
   "source": [
    "## Naive Bayes"
   ]
  },
  {
   "cell_type": "code",
   "execution_count": null,
   "id": "65448b57-a448-4dbc-b557-bd68aefa67cb",
   "metadata": {},
   "outputs": [],
   "source": [
    "from sklearn.naive_bayes import CategoricalNB, GaussianNB\n",
    "from sklearn.model_selection import train_test_split\n",
    "from sklearn.metrics import classification_report\n",
    "import numpy as np"
   ]
  },
  {
   "cell_type": "code",
   "execution_count": null,
   "id": "815b5e11-7e07-4948-9278-2b10ce10e3a0",
   "metadata": {},
   "outputs": [],
   "source": [
    "# For reproducibility\n",
    "np.random.seed(42)\n",
    "\n",
    "# Example using Naive Bayes with categorical data\n",
    "# Generating synthetic categorical data (features are 0, 1, or 2)\n",
    "X_cat = np.random.randint(3, size=(100, 4))\n",
    "y_cat = np.random.randint(2, size=(100))\n",
    "\n",
    "# Splitting the dataset\n",
    "X_cat_train, X_cat_test, y_cat_train, y_cat_test = train_test_split(X_cat, y_cat, test_size=0.3, random_state=42)"
   ]
  },
  {
   "cell_type": "code",
   "execution_count": null,
   "id": "d6265217-b85c-4617-9dc2-b9128ef6e628",
   "metadata": {},
   "outputs": [],
   "source": [
    "# Initializing and training the Categorical Naive Bayes model\n",
    "cat_nb = CategoricalNB()\n",
    "cat_nb.fit(X_cat_train, y_cat_train)\n",
    "\n",
    "# Predicting on the test data\n",
    "y_cat_pred = cat_nb.predict(X_cat_test)\n",
    "\n",
    "# Classification report for Categorical Naive Bayes\n",
    "cat_report = classification_report(y_cat_test, y_cat_pred)\n",
    "print(\"Categorical Naive Bayes Classification Report:\")\n",
    "print(cat_report)\n",
    "\n",
    "# Example using Gaussian Naive Bayes\n",
    "# Generating synthetic Gaussian data (features from a normal distribution)\n",
    "X_gauss = np.random.randn(100, 4)\n",
    "y_gauss = np.random.randint(2, size=(100))\n",
    "\n",
    "# Splitting the dataset\n",
    "X_gauss_train, X_gauss_test, y_gauss_train, y_gauss_test = train_test_split(X_gauss, y_gauss, test_size=0.3, random_state=42)\n",
    "\n",
    "# Initializing and training the Gaussian Naive Bayes model\n",
    "gauss_nb = GaussianNB()\n",
    "gauss_nb.fit(X_gauss_train, y_gauss_train)\n",
    "\n",
    "# Predicting on the test data\n",
    "y_gauss_pred = gauss_nb.predict(X_gauss_test)\n",
    "\n",
    "# Classification report for Gaussian Naive Bayes\n",
    "gauss_report = classification_report(y_gauss_test, y_gauss_pred)\n",
    "print(\"\\nGaussian Naive Bayes Classification Report:\")\n",
    "print(gauss_report)"
   ]
  }
 ],
 "metadata": {
  "kernelspec": {
   "display_name": "Python 3 (ipykernel)",
   "language": "python",
   "name": "python3"
  },
  "language_info": {
   "codemirror_mode": {
    "name": "ipython",
    "version": 3
   },
   "file_extension": ".py",
   "mimetype": "text/x-python",
   "name": "python",
   "nbconvert_exporter": "python",
   "pygments_lexer": "ipython3",
   "version": "3.11.5"
  }
 },
 "nbformat": 4,
 "nbformat_minor": 5
}
