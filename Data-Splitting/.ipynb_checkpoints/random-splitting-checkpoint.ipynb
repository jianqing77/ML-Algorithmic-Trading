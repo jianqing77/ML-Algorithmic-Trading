{
 "cells": [
  {
   "cell_type": "code",
   "execution_count": 15,
   "id": "a9ae24ba-6884-46d7-8545-34f764d71c6a",
   "metadata": {
    "tags": []
   },
   "outputs": [],
   "source": [
    "from sklearn.datasets import load_diabetes\n",
    "from sklearn.model_selection import train_test_split"
   ]
  },
  {
   "cell_type": "markdown",
   "id": "12e23272-2e8e-4a78-a1e6-043dc3492d69",
   "metadata": {},
   "source": [
    "### 1 - Random Split"
   ]
  },
  {
   "cell_type": "markdown",
   "id": "7ee00b34-39e1-4405-a3a6-e309185460c9",
   "metadata": {},
   "source": [
    "- **`X`**: Represents the **features (input data)** of the dataset.\n",
    "    - It could be a matrix where each row corresponds to a sample, and each column corresponds to a feature.\n",
    "- **`y`**: Represents the **target labels (output data)** corresponding to the `X` samples.\n",
    "    - classification: class labels\n",
    "    - regression: continuous values."
   ]
  },
  {
   "cell_type": "code",
   "execution_count": 18,
   "id": "f8409308-d416-4fc0-8fb1-1dfe37d1b371",
   "metadata": {
    "tags": []
   },
   "outputs": [],
   "source": [
    "# Load the diabetes dataset\n",
    "diabetes = load_diabetes()"
   ]
  },
  {
   "cell_type": "code",
   "execution_count": 19,
   "id": "15c7975e-0c2f-4abc-91a8-32a3ebd7103f",
   "metadata": {
    "tags": []
   },
   "outputs": [],
   "source": [
    "# Load features\n",
    "X = diabetes.data\n",
    "\n",
    "# Load target/labels\n",
    "y = diabetes.target"
   ]
  },
  {
   "cell_type": "code",
   "execution_count": 20,
   "id": "e426c1f3-bd15-4f8e-879c-67fdd1a3aa10",
   "metadata": {
    "tags": []
   },
   "outputs": [],
   "source": [
    "# Split the dataset into 80% training and 20% testing\n",
    "# The specific value of random_state does not have a deeper meaning. It’s simply an arbitrary number you choose to ensure reproducibility.\n",
    "X_train, X_test, y_train, y_test = train_test_split(X, y, test_size=0.5, random_state=42)"
   ]
  },
  {
   "cell_type": "code",
   "execution_count": 29,
   "id": "6a2b714f-24c8-4233-9220-d49b11cfe04e",
   "metadata": {
    "tags": []
   },
   "outputs": [
    {
     "data": {
      "text/plain": [
       "(221, 10)"
      ]
     },
     "execution_count": 29,
     "metadata": {},
     "output_type": "execute_result"
    }
   ],
   "source": [
    "# number of samples (rows) and features (columns) in the dataset.\n",
    "X_train.shape "
   ]
  },
  {
   "cell_type": "code",
   "execution_count": 21,
   "id": "6cedc184-da58-4bcb-810e-0f5912122e6f",
   "metadata": {
    "tags": []
   },
   "outputs": [
    {
     "data": {
      "text/plain": [
       "(221, 10)"
      ]
     },
     "execution_count": 21,
     "metadata": {},
     "output_type": "execute_result"
    }
   ],
   "source": [
    "X_test.shape"
   ]
  },
  {
   "cell_type": "markdown",
   "id": "aba83373-2994-4294-b3eb-5d9983eae219",
   "metadata": {},
   "source": [
    "### 2 - Stratified Split"
   ]
  },
  {
   "cell_type": "code",
   "execution_count": 56,
   "id": "d4991e0b-b1a8-42fd-b1d0-c69d8e0c1481",
   "metadata": {
    "tags": []
   },
   "outputs": [],
   "source": [
    "from sklearn.datasets import load_wine\n",
    "from sklearn.model_selection import train_test_split"
   ]
  },
  {
   "cell_type": "code",
   "execution_count": 58,
   "id": "9b904374-d113-4c52-9783-5ae03d8b058e",
   "metadata": {
    "tags": []
   },
   "outputs": [],
   "source": [
    "# Load the wine dataset\n",
    "wine = load_wine()"
   ]
  },
  {
   "cell_type": "code",
   "execution_count": 60,
   "id": "27d037bb-1c9f-4321-92e1-f3c37b169ef8",
   "metadata": {
    "tags": []
   },
   "outputs": [],
   "source": [
    "# Use all features\n",
    "X = wine.data\n",
    "\n",
    "# Use the target(output) variable (e.g., 'target')\n",
    "y = wine.target\n",
    "\n",
    "# Split the dataset into 80% training and 20% testing\n",
    "X_train, X_test, y_train, y_test = train_test_split(X, y, test_size=0.2, stratify=y, random_state=42)"
   ]
  },
  {
   "cell_type": "markdown",
   "id": "a28ef750-b142-4353-8a44-6f21d3ff7b80",
   "metadata": {
    "tags": []
   },
   "source": [
    "- The purpose of stratifying the split is to maintain the proportions of target classes (in y) in both the training and testing data\n",
    "- Stratification is used to ensure that the distribution of classes in the **target variable y** is preserved across the training and testing sets."
   ]
  },
  {
   "cell_type": "code",
   "execution_count": 63,
   "id": "951db356-4def-4192-b49f-166b1732b195",
   "metadata": {
    "tags": []
   },
   "outputs": [
    {
     "data": {
      "text/plain": [
       "(142, 13)"
      ]
     },
     "execution_count": 63,
     "metadata": {},
     "output_type": "execute_result"
    }
   ],
   "source": [
    "X_train.shape"
   ]
  },
  {
   "cell_type": "code",
   "execution_count": 65,
   "id": "3ceb0b52-d861-465c-bde4-d27c1c287865",
   "metadata": {
    "tags": []
   },
   "outputs": [
    {
     "data": {
      "text/plain": [
       "(36, 13)"
      ]
     },
     "execution_count": 65,
     "metadata": {},
     "output_type": "execute_result"
    }
   ],
   "source": [
    "X_test.shape"
   ]
  },
  {
   "cell_type": "code",
   "execution_count": 52,
   "id": "3c652b6a-fc92-4c84-8a2f-342253cab290",
   "metadata": {
    "tags": []
   },
   "outputs": [
    {
     "name": "stdout",
     "output_type": "stream",
     "text": [
      "Class proportions in y_train: [0.7 0.3]\n",
      "Class proportions in y_test: [0.7 0.3]\n"
     ]
    }
   ],
   "source": [
    "# Another exmaple\n",
    "from sklearn.model_selection import train_test_split\n",
    "import numpy as np\n",
    "\n",
    "# Example data\n",
    "X = np.random.rand(1000, 5)  # 1000 samples, 5 features\n",
    "y = np.array([0] * 700 + [1] * 300)  # 70% class 0, 30% class 1\n",
    "\n",
    "# Split the data with stratification\n",
    "X_train, X_test, y_train, y_test = train_test_split(X, y, test_size=0.5, stratify=y, random_state=42)\n",
    "\n",
    "# Calculate the proportions of each class in y_train and y_test\n",
    "train_class_proportions = np.bincount(y_train) / len(y_train)\n",
    "test_class_proportions = np.bincount(y_test) / len(y_test)\n",
    "\n",
    "# Print the proportions\n",
    "print(f\"Class proportions in y_train: {train_class_proportions}\")\n",
    "print(f\"Class proportions in y_test: {test_class_proportions}\")\n",
    "\n",
    "# both y_train and y_test have the same class distribution as the original target variable y\n",
    "# with 70% of class 0 and 30% of class 1 in both the training and test sets."
   ]
  },
  {
   "cell_type": "markdown",
   "id": "7b4d4d48-b0ba-4a52-bd26-150ae11f59b8",
   "metadata": {},
   "source": [
    "## 3 - Time-based Split"
   ]
  },
  {
   "cell_type": "code",
   "execution_count": null,
   "id": "01b9bd9a-d5ca-447f-a965-6cf9d8a81a24",
   "metadata": {},
   "outputs": [],
   "source": [
    "import yfinance as yf"
   ]
  },
  {
   "cell_type": "code",
   "execution_count": null,
   "id": "247dbcae-992b-4880-b896-40e110425fca",
   "metadata": {},
   "outputs": [],
   "source": [
    "# Download the data\n",
    "data = yf.download('AAPL', start='2020-01-01', end='2022-12-31')"
   ]
  },
  {
   "cell_type": "code",
   "execution_count": null,
   "id": "9797dc53-d944-4818-8920-099f5de7cabf",
   "metadata": {},
   "outputs": [],
   "source": [
    "# Split the data into training and testing sets\n",
    "train_data = data.loc[:'2020-12-31']\n",
    "test_data = data.loc['2021-01-01':]"
   ]
  },
  {
   "cell_type": "code",
   "execution_count": null,
   "id": "f3f32897-03ca-4df7-a94a-6e9e46ff1bea",
   "metadata": {},
   "outputs": [],
   "source": [
    "# Print the first few rows of the training and testing sets\n",
    "print(\"Training data:\")\n",
    "print(train_data.head())\n",
    "\n",
    "print(\"\\nTesting data:\")\n",
    "print(test_data.head())"
   ]
  }
 ],
 "metadata": {
  "kernelspec": {
   "display_name": "Python 3 (ipykernel)",
   "language": "python",
   "name": "python3"
  },
  "language_info": {
   "codemirror_mode": {
    "name": "ipython",
    "version": 3
   },
   "file_extension": ".py",
   "mimetype": "text/x-python",
   "name": "python",
   "nbconvert_exporter": "python",
   "pygments_lexer": "ipython3",
   "version": "3.11.5"
  }
 },
 "nbformat": 4,
 "nbformat_minor": 5
}
